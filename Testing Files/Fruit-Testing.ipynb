{
 "cells": [
  {
   "cell_type": "code",
   "execution_count": 2,
   "id": "bb92b814",
   "metadata": {},
   "outputs": [
    {
     "data": {
      "text/plain": [
       "'C:\\\\Users\\\\91978\\\\Desktop\\\\Python Projects\\\\IBM Buildathon\\\\Project Building\\\\Dataset Plant Disease'"
      ]
     },
     "execution_count": 2,
     "metadata": {},
     "output_type": "execute_result"
    }
   ],
   "source": [
    "pwd"
   ]
  },
  {
   "cell_type": "code",
   "execution_count": 3,
   "id": "e0b86fc5",
   "metadata": {},
   "outputs": [
    {
     "name": "stdout",
     "output_type": "stream",
     "text": [
      "Found 5384 images belonging to 6 classes.\n",
      "Found 1686 images belonging to 6 classes.\n"
     ]
    }
   ],
   "source": [
    "x_train=train_datagen.flow_from_directory('C:\\\\Users\\\\91978\\\\Desktop\\\\Python Projects\\\\IBM Buildathon\\\\Project Building\\\\Dataset Plant Disease\\\\fruit-dataset\\\\fruit-dataset\\\\train',\n",
    "                                          target_size=(128,128),class_mode='categorical',batch_size=32)\n",
    "x_test=test_datagen.flow_from_directory('C:\\\\Users\\\\91978\\\\Desktop\\\\Python Projects\\\\IBM Buildathon\\\\Project Building\\\\Dataset Plant Disease\\\\fruit-dataset\\\\fruit-dataset\\\\test',\n",
    "                                          target_size=(128,128),class_mode='categorical',batch_size=32)"
   ]
  },
  {
   "cell_type": "code",
   "execution_count": 4,
   "id": "a8700bf1",
   "metadata": {},
   "outputs": [
    {
     "data": {
      "text/plain": [
       "{'Apple___Black_rot': 0,\n",
       " 'Apple___healthy': 1,\n",
       " 'Corn_(maize)___Northern_Leaf_Blight': 2,\n",
       " 'Corn_(maize)___healthy': 3,\n",
       " 'Peach___Bacterial_spot': 4,\n",
       " 'Peach___healthy': 5}"
      ]
     },
     "execution_count": 4,
     "metadata": {},
     "output_type": "execute_result"
    }
   ],
   "source": [
    "x_train.class_indices"
   ]
  },
  {
   "cell_type": "code",
   "execution_count": 5,
   "id": "e26c3665",
   "metadata": {},
   "outputs": [],
   "source": [
    "from tensorflow.keras.models import Sequential\n",
    "from tensorflow.keras.layers import Dense,Convolution2D,MaxPooling2D,Flatten"
   ]
  },
  {
   "cell_type": "code",
   "execution_count": 6,
   "id": "278586f3",
   "metadata": {},
   "outputs": [],
   "source": [
    "#model=Sequential()\n",
    "#model.add(Convolution2D(32,(3,3),input_shape=(128,128,3),activation='relu'))\n",
    "#model.add(MaxPooling2D(pool_size=(2,2)))\n",
    "#model.add(Flatten())\n",
    "#model.add(Dense(40,kernel_initializer = 'uniform',activation ='relu'))\n",
    "#model.add(Dense(20, kernel_initializer ='random_uniform',activation ='relu'))\n",
    "#model.add(Dense(6, kernel_initializer ='random_uniform',activation ='softmax'))\n",
    "#model.summary()"
   ]
  },
  {
   "cell_type": "code",
   "execution_count": 7,
   "id": "7b2cd129",
   "metadata": {},
   "outputs": [
    {
     "name": "stdout",
     "output_type": "stream",
     "text": [
      "Model: \"sequential\"\n",
      "_________________________________________________________________\n",
      " Layer (type)                Output Shape              Param #   \n",
      "=================================================================\n",
      " conv2d (Conv2D)             (None, 124, 124, 32)      2432      \n",
      "                                                                 \n",
      " max_pooling2d (MaxPooling2D  (None, 41, 41, 32)       0         \n",
      " )                                                               \n",
      "                                                                 \n",
      " conv2d_1 (Conv2D)           (None, 39, 39, 32)        9248      \n",
      "                                                                 \n",
      " max_pooling2d_1 (MaxPooling  (None, 19, 19, 32)       0         \n",
      " 2D)                                                             \n",
      "                                                                 \n",
      " conv2d_2 (Conv2D)           (None, 17, 17, 64)        18496     \n",
      "                                                                 \n",
      " max_pooling2d_2 (MaxPooling  (None, 8, 8, 64)         0         \n",
      " 2D)                                                             \n",
      "                                                                 \n",
      " flatten (Flatten)           (None, 4096)              0         \n",
      "                                                                 \n",
      " dense (Dense)               (None, 512)               2097664   \n",
      "                                                                 \n",
      " dropout (Dropout)           (None, 512)               0         \n",
      "                                                                 \n",
      " dense_1 (Dense)             (None, 128)               65664     \n",
      "                                                                 \n",
      " dense_2 (Dense)             (None, 6)                 774       \n",
      "                                                                 \n",
      "=================================================================\n",
      "Total params: 2,194,278\n",
      "Trainable params: 2,194,278\n",
      "Non-trainable params: 0\n",
      "_________________________________________________________________\n"
     ]
    }
   ],
   "source": [
    "model = Sequential()\n",
    "model.add(Convolution2D(32, (5, 5),input_shape=(128,128,3),activation='relu'))\n",
    "model.add(MaxPooling2D(pool_size=(3, 3)))\n",
    "model.add(Convolution2D(32, (3, 3),activation='relu'))\n",
    "model.add(MaxPooling2D(pool_size=(2, 2)))\n",
    "model.add(Convolution2D(64, (3, 3),activation='relu'))\n",
    "model.add(MaxPooling2D(pool_size=(2, 2)))   \n",
    "model.add(Flatten())\n",
    "model.add(Dense(512,activation='relu'))\n",
    "model.add(Dropout(0.25))\n",
    "model.add(Dense(128,activation='relu'))          \n",
    "model.add(Dense(6,activation='softmax'))\n",
    "model.summary()"
   ]
  },
  {
   "cell_type": "code",
   "execution_count": 8,
   "id": "49645dcd",
   "metadata": {},
   "outputs": [],
   "source": [
    "model.compile(loss='categorical_crossentropy',optimizer='adam',metrics='accuracy')"
   ]
  },
  {
   "cell_type": "code",
   "execution_count": 9,
   "id": "db443a1f",
   "metadata": {},
   "outputs": [
    {
     "data": {
      "text/plain": [
       "169"
      ]
     },
     "execution_count": 9,
     "metadata": {},
     "output_type": "execute_result"
    }
   ],
   "source": [
    "len(x_train)"
   ]
  },
  {
   "cell_type": "code",
   "execution_count": 10,
   "id": "011ed9f2",
   "metadata": {},
   "outputs": [
    {
     "name": "stderr",
     "output_type": "stream",
     "text": [
      "C:\\Users\\91978\\AppData\\Local\\Temp/ipykernel_19608/3138067069.py:1: UserWarning: `Model.fit_generator` is deprecated and will be removed in a future version. Please use `Model.fit`, which supports generators.\n",
      "  model.fit_generator(x_train,steps_per_epoch=len(x_train),validation_data=x_test,validation_steps=52,epochs=15)\n"
     ]
    },
    {
     "name": "stdout",
     "output_type": "stream",
     "text": [
      "Epoch 1/15\n",
      "169/169 [==============================] - 102s 594ms/step - loss: 0.7194 - accuracy: 0.7407 - val_loss: 0.2664 - val_accuracy: 0.8984\n",
      "Epoch 2/15\n",
      "169/169 [==============================] - 98s 580ms/step - loss: 0.3082 - accuracy: 0.8910 - val_loss: 0.1579 - val_accuracy: 0.9477\n",
      "Epoch 3/15\n",
      "169/169 [==============================] - 106s 629ms/step - loss: 0.3322 - accuracy: 0.8848 - val_loss: 0.3310 - val_accuracy: 0.8906\n",
      "Epoch 4/15\n",
      "169/169 [==============================] - 100s 587ms/step - loss: 0.2222 - accuracy: 0.9227 - val_loss: 0.1309 - val_accuracy: 0.9579\n",
      "Epoch 5/15\n",
      "169/169 [==============================] - 111s 657ms/step - loss: 0.1543 - accuracy: 0.9461 - val_loss: 0.1303 - val_accuracy: 0.9537\n",
      "Epoch 6/15\n",
      "169/169 [==============================] - 99s 585ms/step - loss: 0.1294 - accuracy: 0.9562 - val_loss: 0.1674 - val_accuracy: 0.9447\n",
      "Epoch 7/15\n",
      "169/169 [==============================] - 111s 656ms/step - loss: 0.1280 - accuracy: 0.9560 - val_loss: 0.1162 - val_accuracy: 0.9597\n",
      "Epoch 8/15\n",
      "169/169 [==============================] - 86s 509ms/step - loss: 0.1004 - accuracy: 0.9608 - val_loss: 0.0811 - val_accuracy: 0.9694\n",
      "Epoch 9/15\n",
      "169/169 [==============================] - 68s 402ms/step - loss: 0.0862 - accuracy: 0.9720 - val_loss: 0.0925 - val_accuracy: 0.9706\n",
      "Epoch 10/15\n",
      "169/169 [==============================] - 100s 590ms/step - loss: 0.0861 - accuracy: 0.9707 - val_loss: 0.0559 - val_accuracy: 0.9856\n",
      "Epoch 11/15\n",
      "169/169 [==============================] - 101s 599ms/step - loss: 0.0638 - accuracy: 0.9783 - val_loss: 0.0608 - val_accuracy: 0.9802\n",
      "Epoch 12/15\n",
      "169/169 [==============================] - 103s 612ms/step - loss: 0.0762 - accuracy: 0.9744 - val_loss: 0.0956 - val_accuracy: 0.9694\n",
      "Epoch 13/15\n",
      "169/169 [==============================] - 108s 640ms/step - loss: 0.0835 - accuracy: 0.9695 - val_loss: 0.1395 - val_accuracy: 0.9573\n",
      "Epoch 14/15\n",
      "169/169 [==============================] - 104s 615ms/step - loss: 0.0496 - accuracy: 0.9840 - val_loss: 0.0549 - val_accuracy: 0.9826\n",
      "Epoch 15/15\n",
      "169/169 [==============================] - 97s 576ms/step - loss: 0.0556 - accuracy: 0.9803 - val_loss: 0.0815 - val_accuracy: 0.9760\n"
     ]
    },
    {
     "data": {
      "text/plain": [
       "<keras.callbacks.History at 0x223fe0c5880>"
      ]
     },
     "execution_count": 10,
     "metadata": {},
     "output_type": "execute_result"
    }
   ],
   "source": [
    "model.fit_generator(x_train,steps_per_epoch=len(x_train),validation_data=x_test,validation_steps=52,epochs=15)"
   ]
  },
  {
   "cell_type": "code",
   "execution_count": 22,
   "id": "6afac48b",
   "metadata": {},
   "outputs": [],
   "source": [
    "model.save('fruit.h5') "
   ]
  },
  {
   "cell_type": "code",
   "execution_count": 23,
   "id": "2ee38fd1",
   "metadata": {},
   "outputs": [],
   "source": [
    "import numpy as np\n",
    "from tensorflow.keras.models import load_model\n",
    "from tensorflow.keras.preprocessing import image"
   ]
  },
  {
   "cell_type": "code",
   "execution_count": 24,
   "id": "7d601d6f",
   "metadata": {},
   "outputs": [],
   "source": [
    "model=load_model('fruit.h5')"
   ]
  },
  {
   "cell_type": "code",
   "execution_count": 25,
   "id": "0194ec44",
   "metadata": {},
   "outputs": [],
   "source": [
    "img=image.load_img(\"C:\\\\Users\\\\91978\\\\Desktop\\\\Python Projects\\\\IBM Buildathon\\\\Project Building\\\\Dataset Plant Disease\\\\fruit-dataset\\\\fruit-dataset\\\\test\\\\Apple___Black_rot\\\\00e909aa-e3ae-4558-9961-336bb0f35db3___JR_FrgE.S 8593.jpg\", target_size=(128,128))"
   ]
  },
  {
   "cell_type": "code",
   "execution_count": 26,
   "id": "057c2225",
   "metadata": {},
   "outputs": [
    {
     "data": {
      "image/png": "[encoded data removed]",
      "text/plain": [
       "<PIL.Image.Image image mode=RGB size=128x128 at 0x22387A27220>"
      ]
     },
     "execution_count": 26,
     "metadata": {},
     "output_type": "execute_result"
    }
   ],
   "source": [
    "img"
   ]
  },
  {
   "cell_type": "code",
   "execution_count": 27,
   "id": "408687c9",
   "metadata": {},
   "outputs": [
    {
     "data": {
      "text/plain": [
       "'Apple___Black_rot'"
      ]
     },
     "execution_count": 27,
     "metadata": {},
     "output_type": "execute_result"
    }
   ],
   "source": [
    "x=image.img_to_array(img)\n",
    "x=np.expand_dims(x,axis=0)\n",
    "y=np.argmax(model.predict(x),axis=1)\n",
    "\n",
    "index=['Apple___Black_rot','Apple___healthy','Corn_(maize)___Northern_Leaf_Blight','Corn_(maize)___healthy','Peach___Bacterial_spot','Peach___healthy']\n",
    "index[y[0]]"
   ]
  },
  {
   "cell_type": "code",
   "execution_count": 28,
   "id": "00b359f7",
   "metadata": {},
   "outputs": [
    {
     "data": {
      "text/plain": [
       "'Apple___healthy'"
      ]
     },
     "execution_count": 28,
     "metadata": {},
     "output_type": "execute_result"
    }
   ],
   "source": [
    "img=image.load_img(\"C:\\\\Users\\\\91978\\\\Desktop\\\\Python Projects\\\\IBM Buildathon\\\\Project Building\\\\Dataset Plant Disease\\\\fruit-dataset\\\\fruit-dataset\\\\test\\\\Apple___healthy\\\\0a02e8cb-b715-497f-a16a-c28b3409f927___RS_HL 7432.jpg\",target_size=(128,128))\n",
    "x=image.img_to_array(img)\n",
    "x=np.expand_dims(x,axis=0)\n",
    "y=np.argmax(model.predict(x),axis=1)\n",
    "#x_train.class_indices\n",
    "index=['Apple___Black_rot','Apple___healthy','Corn_(maize)___Northern_Leaf_Blight','Corn_(maize)___healthy','Peach___Bacterial_spot','Peach___healthy']\n",
    "index[y[0]]"
   ]
  },
  {
   "cell_type": "code",
   "execution_count": 29,
   "id": "c58dc17f",
   "metadata": {},
   "outputs": [
    {
     "data": {
      "text/plain": [
       "'Corn_(maize)___healthy'"
      ]
     },
     "execution_count": 29,
     "metadata": {},
     "output_type": "execute_result"
    }
   ],
   "source": [
    "img=image.load_img(\"C:\\\\Users\\\\91978\\\\Desktop\\\\Python Projects\\\\IBM Buildathon\\\\Project Building\\\\Dataset Plant Disease\\\\fruit-dataset\\\\fruit-dataset\\\\test\\\\Corn_(maize)___healthy\\\\0ad1f85a-765f-43e5-8b7b-4a7521be768d___R.S_HL 5520 copy 2.jpg\",target_size=(128,128))\n",
    "x=image.img_to_array(img)\n",
    "x=np.expand_dims(x,axis=0)\n",
    "y=np.argmax(model.predict(x),axis=1)\n",
    "index=['Apple___Black_rot','Apple___healthy','Corn_(maize)___Northern_Leaf_Blight','Corn_(maize)___healthy','Peach___Bacterial_spot','Peach___healthy']\n",
    "index[y[0]]"
   ]
  },
  {
   "cell_type": "code",
   "execution_count": 30,
   "id": "c66c8b0d",
   "metadata": {},
   "outputs": [
    {
     "data": {
      "text/plain": [
       "'Peach___Bacterial_spot'"
      ]
     },
     "execution_count": 30,
     "metadata": {},
     "output_type": "execute_result"
    }
   ],
   "source": [
    "img=image.load_img(\"C:\\\\Users\\\\91978\\\\Desktop\\\\Python Projects\\\\IBM Buildathon\\\\Project Building\\\\Dataset Plant Disease\\\\fruit-dataset\\\\fruit-dataset\\\\test\\\\Peach___Bacterial_spot\\\\0acacb6e-3517-4277-ab89-2cd9636d8b45___Rutg._Bact.S 1442.jpg\",target_size=(128,128))\n",
    "x=image.img_to_array(img)\n",
    "x=np.expand_dims(x,axis=0)\n",
    "y=np.argmax(model.predict(x),axis=1)\n",
    "#x_train.class_indices\n",
    "index=['Apple___Black_rot','Apple___healthy','Corn_(maize)___Northern_Leaf_Blight','Corn_(maize)___healthy','Peach___Bacterial_spot','Peach___healthy']\n",
    "index[y[0]]"
   ]
  },
  {
   "cell_type": "code",
   "execution_count": 31,
   "id": "e9a2e092",
   "metadata": {},
   "outputs": [
    {
     "data": {
      "text/plain": [
       "'Corn_(maize)___Northern_Leaf_Blight'"
      ]
     },
     "execution_count": 31,
     "metadata": {},
     "output_type": "execute_result"
    }
   ],
   "source": [
    "img=image.load_img(\"C:\\\\Users\\\\91978\\\\Desktop\\\\Python Projects\\\\IBM Buildathon\\\\Project Building\\\\Dataset Plant Disease\\\\fruit-dataset\\\\fruit-dataset\\\\test\\\\Corn_(maize)___Northern_Leaf_Blight\\\\0d0f6d14-be5c-4cb8-adb4-2cfd4d5f8540___RS_NLB 3642.jpg\",target_size=(128,128))\n",
    "x=image.img_to_array(img)\n",
    "x=np.expand_dims(x,axis=0)\n",
    "y=np.argmax(model.predict(x),axis=1)\n",
    "#x_train.class_indices\n",
    "index=['Apple___Black_rot','Apple___healthy','Corn_(maize)___Northern_Leaf_Blight','Corn_(maize)___healthy','Peach___Bacterial_spot','Peach___healthy']\n",
    "index[y[0]]"
   ]
  },
  {
   "cell_type": "code",
   "execution_count": 32,
   "id": "c0266597",
   "metadata": {},
   "outputs": [
    {
     "data": {
      "text/plain": [
       "'Peach___healthy'"
      ]
     },
     "execution_count": 32,
     "metadata": {},
     "output_type": "execute_result"
    }
   ],
   "source": [
    "img=image.load_img(\"C:\\\\Users\\\\91978\\\\Desktop\\\\Python Projects\\\\IBM Buildathon\\\\Project Building\\\\Dataset Plant Disease\\\\fruit-dataset\\\\fruit-dataset\\\\test\\\\Peach___healthy\\\\4a87f671-1b68-49cb-bb69-7be29499caba___Rutg._HL 3716.jpg\",target_size=(128,128))\n",
    "x=image.img_to_array(img)\n",
    "x=np.expand_dims(x,axis=0)\n",
    "y=np.argmax(model.predict(x),axis=1)\n",
    "#x_train.class_indices\n",
    "index=['Apple___Black_rot','Apple___healthy','Corn_(maize)___Northern_Leaf_Blight','Corn_(maize)___healthy','Peach___Bacterial_spot','Peach___healthy']\n",
    "index[y[0]]"
   ]
  },
  {
   "cell_type": "code",
   "execution_count": null,
   "id": "fabcaaa7",
   "metadata": {},
   "outputs": [],
   "source": []
  }
 ],
 "metadata": {
  "kernelspec": {
   "display_name": "Python 3 (ipykernel)",
   "language": "python",
   "name": "python3"
  },
  "language_info": {
   "codemirror_mode": {
    "name": "ipython",
    "version": 3
   },
   "file_extension": ".py",
   "mimetype": "text/x-python",
   "name": "python",
   "nbconvert_exporter": "python",
   "pygments_lexer": "ipython3",
   "version": "3.9.7"
  }
 },
 "nbformat": 4,
 "nbformat_minor": 5
}
