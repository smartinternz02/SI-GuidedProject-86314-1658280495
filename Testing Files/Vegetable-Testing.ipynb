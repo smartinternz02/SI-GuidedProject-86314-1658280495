{
 "cells": [
  {
   "cell_type": "code",
   "execution_count": 2,
   "id": "c0d553f3",
   "metadata": {},
   "outputs": [],
   "source": [
    "from keras.preprocessing.image import ImageDataGenerator\n",
    "train_datagen=ImageDataGenerator(rescale=1./255,shear_range=0.2,zoom_range=0.2,horizontal_flip=True)\n",
    "test_datagen=ImageDataGenerator(rescale=1./255)"
   ]
  },
  {
   "cell_type": "code",
   "execution_count": 3,
   "id": "bb92b814",
   "metadata": {},
   "outputs": [
    {
     "data": {
      "text/plain": [
       "'C:\\\\Users\\\\91978\\\\Desktop\\\\Python Projects\\\\IBM Buildathon\\\\Project Building\\\\Dataset Plant Disease'"
      ]
     },
     "execution_count": 3,
     "metadata": {},
     "output_type": "execute_result"
    }
   ],
   "source": [
    "pwd"
   ]
  },
  {
   "cell_type": "code",
   "execution_count": 4,
   "id": "e0b86fc5",
   "metadata": {},
   "outputs": [
    {
     "name": "stdout",
     "output_type": "stream",
     "text": [
      "Found 11386 images belonging to 9 classes.\n",
      "Found 3416 images belonging to 9 classes.\n"
     ]
    }
   ],
   "source": [
    "x_train=train_datagen.flow_from_directory('C:\\\\Users\\\\91978\\\\Desktop\\\\Python Projects\\\\IBM Buildathon\\\\Project Building\\\\Dataset Plant Disease\\\\Veg-dataset\\\\Veg-dataset\\\\train_set',\n",
    "                                          target_size=(128,128),class_mode='categorical',batch_size=64)\n",
    "x_test=test_datagen.flow_from_directory('C:\\\\Users\\\\91978\\\\Desktop\\\\Python Projects\\\\IBM Buildathon\\\\Project Building\\\\Dataset Plant Disease\\\\Veg-dataset\\\\Veg-dataset\\\\test_set',\n",
    "                                          target_size=(128,128),class_mode='categorical',batch_size=64)"
   ]
  },
  {
   "cell_type": "code",
   "execution_count": 5,
   "id": "a8700bf1",
   "metadata": {},
   "outputs": [
    {
     "data": {
      "text/plain": [
       "{'Pepper,_bell___Bacterial_spot': 0,\n",
       " 'Pepper,_bell___healthy': 1,\n",
       " 'Potato___Early_blight': 2,\n",
       " 'Potato___Late_blight': 3,\n",
       " 'Potato___healthy': 4,\n",
       " 'Tomato___Bacterial_spot': 5,\n",
       " 'Tomato___Late_blight': 6,\n",
       " 'Tomato___Leaf_Mold': 7,\n",
       " 'Tomato___Septoria_leaf_spot': 8}"
      ]
     },
     "execution_count": 5,
     "metadata": {},
     "output_type": "execute_result"
    }
   ],
   "source": [
    "x_train.class_indices"
   ]
  },
  {
   "cell_type": "code",
   "execution_count": 6,
   "id": "e26c3665",
   "metadata": {},
   "outputs": [],
   "source": [
    "from tensorflow.keras.models import Sequential\n",
    "from tensorflow.keras.layers import Dense,Convolution2D,MaxPooling2D,Flatten"
   ]
  },
  {
   "cell_type": "code",
   "execution_count": 7,
   "id": "278586f3",
   "metadata": {},
   "outputs": [],
   "source": [
    "model=Sequential()\n",
    "model.add(Convolution2D(32,(3,3),input_shape=(128,128,3),activation='relu'))\n",
    "model.add(MaxPooling2D(pool_size=(2,2)))\n",
    "model.add(Flatten())\n",
    "model.add(Dense(300,kernel_initializer = 'uniform',activation ='relu'))\n",
    "model.add(Dense(150, kernel_initializer ='uniform',activation ='relu'))\n",
    "model.add(Dense(75, kernel_initializer ='uniform',activation ='relu'))\n",
    "model.add(Dense(9, kernel_initializer ='uniform',activation ='softmax'))"
   ]
  },
  {
   "cell_type": "code",
   "execution_count": 8,
   "id": "49645dcd",
   "metadata": {},
   "outputs": [],
   "source": [
    "model.compile(loss='categorical_crossentropy',optimizer='adam',metrics='accuracy')"
   ]
  },
  {
   "cell_type": "code",
   "execution_count": 9,
   "id": "db443a1f",
   "metadata": {},
   "outputs": [
    {
     "data": {
      "text/plain": [
       "178"
      ]
     },
     "execution_count": 9,
     "metadata": {},
     "output_type": "execute_result"
    }
   ],
   "source": [
    "len(x_train)"
   ]
  },
  {
   "cell_type": "code",
   "execution_count": 10,
   "id": "011ed9f2",
   "metadata": {},
   "outputs": [
    {
     "name": "stdout",
     "output_type": "stream",
     "text": [
      "Epoch 1/20\n",
      "178/178 [==============================] - 210s 1s/step - loss: 1.5855 - accuracy: 0.4065 - val_loss: 1.0454 - val_accuracy: 0.6291\n",
      "Epoch 2/20\n",
      "178/178 [==============================] - 209s 1s/step - loss: 0.9187 - accuracy: 0.6685 - val_loss: 0.9843 - val_accuracy: 0.6487\n",
      "Epoch 3/20\n",
      "178/178 [==============================] - 206s 1s/step - loss: 0.6194 - accuracy: 0.7751 - val_loss: 0.5655 - val_accuracy: 0.7725\n",
      "Epoch 4/20\n",
      "178/178 [==============================] - 204s 1s/step - loss: 0.4954 - accuracy: 0.8224 - val_loss: 0.4793 - val_accuracy: 0.8267\n",
      "Epoch 5/20\n",
      "178/178 [==============================] - 204s 1s/step - loss: 0.3909 - accuracy: 0.8634 - val_loss: 0.5720 - val_accuracy: 0.7889\n",
      "Epoch 6/20\n",
      "178/178 [==============================] - 204s 1s/step - loss: 0.3582 - accuracy: 0.8748 - val_loss: 0.2653 - val_accuracy: 0.9005\n",
      "Epoch 7/20\n",
      "178/178 [==============================] - 204s 1s/step - loss: 0.3040 - accuracy: 0.8915 - val_loss: 0.2858 - val_accuracy: 0.8984\n",
      "Epoch 8/20\n",
      "178/178 [==============================] - 210s 1s/step - loss: 0.2509 - accuracy: 0.9165 - val_loss: 0.2489 - val_accuracy: 0.9119\n",
      "Epoch 9/20\n",
      "178/178 [==============================] - 229s 1s/step - loss: 0.2445 - accuracy: 0.9159 - val_loss: 0.1763 - val_accuracy: 0.9397\n",
      "Epoch 10/20\n",
      "178/178 [==============================] - 237s 1s/step - loss: 0.2089 - accuracy: 0.9270 - val_loss: 0.2907 - val_accuracy: 0.8970\n",
      "Epoch 11/20\n",
      "178/178 [==============================] - 199s 1s/step - loss: 0.2141 - accuracy: 0.9261 - val_loss: 0.1279 - val_accuracy: 0.9549\n",
      "Epoch 12/20\n",
      "178/178 [==============================] - 201s 1s/step - loss: 0.1817 - accuracy: 0.9367 - val_loss: 0.1682 - val_accuracy: 0.9368\n",
      "Epoch 13/20\n",
      "178/178 [==============================] - 201s 1s/step - loss: 0.1762 - accuracy: 0.9390 - val_loss: 0.2080 - val_accuracy: 0.9259\n",
      "Epoch 14/20\n",
      "178/178 [==============================] - 201s 1s/step - loss: 0.1578 - accuracy: 0.9458 - val_loss: 0.1144 - val_accuracy: 0.9590\n",
      "Epoch 15/20\n",
      "178/178 [==============================] - 201s 1s/step - loss: 0.1436 - accuracy: 0.9501 - val_loss: 0.2221 - val_accuracy: 0.9183\n",
      "Epoch 16/20\n",
      "178/178 [==============================] - 202s 1s/step - loss: 0.1159 - accuracy: 0.9585 - val_loss: 0.1087 - val_accuracy: 0.9596\n",
      "Epoch 17/20\n",
      "178/178 [==============================] - 203s 1s/step - loss: 0.1491 - accuracy: 0.9495 - val_loss: 0.1040 - val_accuracy: 0.9649\n",
      "Epoch 18/20\n",
      "178/178 [==============================] - 145s 811ms/step - loss: 0.1344 - accuracy: 0.9525 - val_loss: 0.1076 - val_accuracy: 0.9684\n",
      "Epoch 19/20\n",
      "178/178 [==============================] - 114s 643ms/step - loss: 0.1111 - accuracy: 0.9609 - val_loss: 0.1773 - val_accuracy: 0.9397\n",
      "Epoch 20/20\n",
      "178/178 [==============================] - 115s 645ms/step - loss: 0.1190 - accuracy: 0.9591 - val_loss: 0.0785 - val_accuracy: 0.9737\n"
     ]
    },
    {
     "data": {
      "text/plain": [
       "<keras.callbacks.History at 0x2a9a1dbb760>"
      ]
     },
     "execution_count": 10,
     "metadata": {},
     "output_type": "execute_result"
    }
   ],
   "source": [
    "model.fit(x_train,steps_per_epoch=len(x_train),validation_data=x_test,validation_steps=len(x_test),epochs=20)"
   ]
  },
  {
   "cell_type": "code",
   "execution_count": 11,
   "id": "dc60eddd",
   "metadata": {},
   "outputs": [
    {
     "name": "stdout",
     "output_type": "stream",
     "text": [
      "Model: \"sequential\"\n",
      "_________________________________________________________________\n",
      " Layer (type)                Output Shape              Param #   \n",
      "=================================================================\n",
      " conv2d (Conv2D)             (None, 126, 126, 32)      896       \n",
      "                                                                 \n",
      " max_pooling2d (MaxPooling2D  (None, 63, 63, 32)       0         \n",
      " )                                                               \n",
      "                                                                 \n",
      " flatten (Flatten)           (None, 127008)            0         \n",
      "                                                                 \n",
      " dense (Dense)               (None, 300)               38102700  \n",
      "                                                                 \n",
      " dense_1 (Dense)             (None, 150)               45150     \n",
      "                                                                 \n",
      " dense_2 (Dense)             (None, 75)                11325     \n",
      "                                                                 \n",
      " dense_3 (Dense)             (None, 9)                 684       \n",
      "                                                                 \n",
      "=================================================================\n",
      "Total params: 38,160,755\n",
      "Trainable params: 38,160,755\n",
      "Non-trainable params: 0\n",
      "_________________________________________________________________\n"
     ]
    }
   ],
   "source": [
    "model.summary()"
   ]
  },
  {
   "cell_type": "code",
   "execution_count": 12,
   "id": "f68c2e5d",
   "metadata": {},
   "outputs": [],
   "source": [
    "model.save('vegetable.h5') "
   ]
  },
  {
   "cell_type": "code",
   "execution_count": 1,
   "id": "30a1bda7",
   "metadata": {},
   "outputs": [],
   "source": [
    "import numpy as np\n",
    "from keras.preprocessing import image\n",
    "from tensorflow.keras.models import load_model\n",
    "from tensorflow.keras.preprocessing.image import img_to_array"
   ]
  },
  {
   "cell_type": "code",
   "execution_count": 2,
   "id": "cae2ed68",
   "metadata": {},
   "outputs": [],
   "source": [
    "model=load_model('vegetable.h5')"
   ]
  },
  {
   "cell_type": "code",
   "execution_count": 3,
   "id": "92077d26",
   "metadata": {},
   "outputs": [],
   "source": [
    "img=image.load_img(\"C:\\\\Users\\\\91978\\\\Desktop\\\\Python Projects\\\\IBM Buildathon\\\\Project Building\\\\Dataset Plant Disease\\\\Veg-dataset\\\\Veg-dataset\\\\test_set\\\\Tomato___Septoria_leaf_spot\\\\c551c562-b93a-4b2e-9058-12519414b3ff___Matt.S_CG 2882.jpg\", target_size=(128,128))"
   ]
  },
  {
   "cell_type": "code",
   "execution_count": 4,
   "id": "ecb0178e",
   "metadata": {},
   "outputs": [
    {
     "data": {
      "image/png": "[encoded data removed]",
      "text/plain": [
       "<PIL.Image.Image image mode=RGB size=128x128 at 0x2441D07A850>"
      ]
     },
     "execution_count": 4,
     "metadata": {},
     "output_type": "execute_result"
    }
   ],
   "source": [
    "img"
   ]
  },
  {
   "cell_type": "code",
   "execution_count": 5,
   "id": "e4ca5a70",
   "metadata": {},
   "outputs": [],
   "source": [
    "x=image.img_to_array(img)\n",
    "x=np.expand_dims(x,axis = 0)"
   ]
  },
  {
   "cell_type": "code",
   "execution_count": 6,
   "id": "4ed00d26",
   "metadata": {},
   "outputs": [],
   "source": [
    "y=model.predict(x)"
   ]
  },
  {
   "cell_type": "code",
   "execution_count": 7,
   "id": "57422645",
   "metadata": {},
   "outputs": [
    {
     "data": {
      "text/plain": [
       "array([[0., 0., 0., 0., 0., 0., 0., 0., 1.]], dtype=float32)"
      ]
     },
     "execution_count": 7,
     "metadata": {},
     "output_type": "execute_result"
    }
   ],
   "source": [
    "y"
   ]
  },
  {
   "cell_type": "code",
   "execution_count": 8,
   "id": "251694a0",
   "metadata": {},
   "outputs": [
    {
     "data": {
      "text/plain": [
       "'Tomato___Septoria_leaf_spot'"
      ]
     },
     "execution_count": 8,
     "metadata": {},
     "output_type": "execute_result"
    }
   ],
   "source": [
    "x=image.img_to_array(img)\n",
    "x=np.expand_dims(x,axis=0)\n",
    "y=np.argmax(model.predict(x),axis=1)\n",
    "#x_train.class_indices\n",
    "index=['Pepper,_bell___Bacterial_spot','Pepper,_bell___healthy','Potato___Early_blight','Potato___Late_blight','Potato___healthy','Tomato___Bacterial_spot','Tomato___Late_blight','Tomato___Leaf_Mold','Tomato___Septoria_leaf_spot']\n",
    "index[y[0]]"
   ]
  },
  {
   "cell_type": "code",
   "execution_count": 9,
   "id": "1afff247",
   "metadata": {},
   "outputs": [
    {
     "data": {
      "text/plain": [
       "'Pepper,_bell___Bacterial_spot'"
      ]
     },
     "execution_count": 9,
     "metadata": {},
     "output_type": "execute_result"
    }
   ],
   "source": [
    "img=image.load_img(\"C:\\\\Users\\\\91978\\\\Desktop\\\\Python Projects\\\\IBM Buildathon\\\\Project Building\\\\Dataset Plant Disease\\\\Veg-dataset\\\\Veg-dataset\\\\test_set\\\\Pepper,_bell___Bacterial_spot\\\\afd0c913-1e90-4ff9-9a61-bd0a5297c012___JR_B.Spot 3221.jpg\", target_size=(128,128))\n",
    "x=image.img_to_array(img)\n",
    "x=np.expand_dims(x,axis=0)\n",
    "y=np.argmax(model.predict(x),axis=1)\n",
    "index=['Pepper,_bell___Bacterial_spot','Pepper,_bell___healthy','Potato___Early_blight','Potato___Late_blight','Potato___healthy','Tomato___Bacterial_spot','Tomato___Late_blight','Tomato___Leaf_Mold','Tomato___Septoria_leaf_spot']\n",
    "index[y[0]]"
   ]
  },
  {
   "cell_type": "code",
   "execution_count": 10,
   "id": "3068897c",
   "metadata": {},
   "outputs": [
    {
     "data": {
      "text/plain": [
       "'Pepper,_bell___healthy'"
      ]
     },
     "execution_count": 10,
     "metadata": {},
     "output_type": "execute_result"
    }
   ],
   "source": [
    "img=image.load_img(\"C:\\\\Users\\\\91978\\\\Desktop\\\\Python Projects\\\\IBM Buildathon\\\\Project Building\\\\Dataset Plant Disease\\\\Veg-dataset\\\\Veg-dataset\\\\test_set\\\\Pepper,_bell___healthy\\\\b91d515b-9f44-4a63-aa2b-e7b3f2ea0fec___JR_HL 8312.jpg\", target_size=(128,128))\n",
    "x=image.img_to_array(img)\n",
    "x=np.expand_dims(x,axis=0)\n",
    "y=np.argmax(model.predict(x),axis=1)\n",
    "index=['Pepper,_bell___Bacterial_spot','Pepper,_bell___healthy','Potato___Early_blight','Potato___Late_blight','Potato___healthy','Tomato___Bacterial_spot','Tomato___Late_blight','Tomato___Leaf_Mold','Tomato___Septoria_leaf_spot']\n",
    "index[y[0]]"
   ]
  },
  {
   "cell_type": "code",
   "execution_count": 11,
   "id": "9566e5d0",
   "metadata": {},
   "outputs": [
    {
     "data": {
      "text/plain": [
       "'Potato___Early_blight'"
      ]
     },
     "execution_count": 11,
     "metadata": {},
     "output_type": "execute_result"
    }
   ],
   "source": [
    "img=image.load_img(\"C:\\\\Users\\\\91978\\\\Desktop\\\\Python Projects\\\\IBM Buildathon\\\\Project Building\\\\Dataset Plant Disease\\\\Veg-dataset\\\\Veg-dataset\\\\test_set\\\\Potato___Early_blight\\\\c03a3f69-00b7-4aa5-a49f-794416af0598___RS_Early.B 8112.jpg\", target_size=(128,128))\n",
    "x=image.img_to_array(img)\n",
    "x=np.expand_dims(x,axis=0)\n",
    "y=np.argmax(model.predict(x),axis=1)\n",
    "#x_train.class_indices\n",
    "index=['Pepper,_bell___Bacterial_spot','Pepper,_bell___healthy','Potato___Early_blight','Potato___Late_blight','Potato___healthy','Tomato___Bacterial_spot','Tomato___Late_blight','Tomato___Leaf_Mold','Tomato___Septoria_leaf_spot']\n",
    "index[y[0]]"
   ]
  },
  {
   "cell_type": "code",
   "execution_count": 13,
   "id": "1ff6a539",
   "metadata": {},
   "outputs": [
    {
     "data": {
      "text/plain": [
       "'Potato___healthy'"
      ]
     },
     "execution_count": 13,
     "metadata": {},
     "output_type": "execute_result"
    }
   ],
   "source": [
    "img=image.load_img(\"C:\\\\Users\\\\91978\\\\Desktop\\\\Python Projects\\\\IBM Buildathon\\\\Project Building\\\\Dataset Plant Disease\\\\Veg-dataset\\\\Veg-dataset\\\\test_set\\\\Potato___healthy\\\\b42621c3-f751-46e1-a8d2-83ed85b90554___RS_HL 1740.jpg\", target_size=(128,128))\n",
    "x=image.img_to_array(img)\n",
    "x=np.expand_dims(x,axis=0)\n",
    "y=np.argmax(model.predict(x),axis=1)\n",
    "#x_train.class_indices\n",
    "index=['Pepper,_bell___Bacterial_spot','Pepper,_bell___healthy','Potato___Early_blight','Potato___Late_blight','Potato___healthy','Tomato___Bacterial_spot','Tomato___Late_blight','Tomato___Leaf_Mold','Tomato___Septoria_leaf_spot']\n",
    "index[y[0]]"
   ]
  },
  {
   "cell_type": "code",
   "execution_count": 14,
   "id": "e4318f40",
   "metadata": {},
   "outputs": [
    {
     "data": {
      "text/plain": [
       "'Tomato___Late_blight'"
      ]
     },
     "execution_count": 14,
     "metadata": {},
     "output_type": "execute_result"
    }
   ],
   "source": [
    "img=image.load_img(\"C:\\\\Users\\\\91978\\\\Desktop\\\\Python Projects\\\\IBM Buildathon\\\\Project Building\\\\Dataset Plant Disease\\\\Veg-dataset\\\\Veg-dataset\\\\test_set\\\\Potato___Late_blight\\\\de63bbba-d8d0-4e74-95d7-6d5adfcd0955___RS_LB 3222.jpg\", target_size=(128,128))\n",
    "x=image.img_to_array(img)\n",
    "x=np.expand_dims(x,axis=0)\n",
    "y=np.argmax(model.predict(x),axis=1)\n",
    "#x_train.class_indices\n",
    "index=['Pepper,_bell___Bacterial_spot','Pepper,_bell___healthy','Potato___Early_blight','Potato___Late_blight','Potato___healthy','Tomato___Bacterial_spot','Tomato___Late_blight','Tomato___Leaf_Mold','Tomato___Septoria_leaf_spot']\n",
    "index[y[0]]"
   ]
  },
  {
   "cell_type": "code",
   "execution_count": 26,
   "id": "6a8cf6a1",
   "metadata": {},
   "outputs": [
    {
     "data": {
      "text/plain": [
       "'Tomato___Septoria_leaf_spot'"
      ]
     },
     "execution_count": 26,
     "metadata": {},
     "output_type": "execute_result"
    }
   ],
   "source": [
    "img=image.load_img(\"C:\\\\Users\\\\91978\\\\Desktop\\\\Python Projects\\\\IBM Buildathon\\\\Project Building\\\\Dataset Plant Disease\\\\Veg-dataset\\\\Veg-dataset\\\\test_set\\\\Tomato___Bacterial_spot\\\\bd7ff95f-02e5-491a-8bf9-5f2ac2277e7c___UF.GRC_BS_Lab Leaf 0932.jpg\", target_size=(128,128))\n",
    "x=image.img_to_array(img)\n",
    "x=np.expand_dims(x,axis=0)\n",
    "y=np.argmax(model.predict(x),axis=1)\n",
    "#x_train.class_indices\n",
    "index=['Pepper,_bell___Bacterial_spot','Pepper,_bell___healthy','Potato___Early_blight','Potato___Late_blight','Potato___healthy','Tomato___Bacterial_spot','Tomato___Late_blight','Tomato___Leaf_Mold','Tomato___Septoria_leaf_spot']\n",
    "index[y[0]]"
   ]
  },
  {
   "cell_type": "code",
   "execution_count": 15,
   "id": "8d838afb",
   "metadata": {},
   "outputs": [
    {
     "data": {
      "text/plain": [
       "'Tomato___Late_blight'"
      ]
     },
     "execution_count": 15,
     "metadata": {},
     "output_type": "execute_result"
    }
   ],
   "source": [
    "img=image.load_img(\"C:\\\\Users\\\\91978\\\\Desktop\\\\Python Projects\\\\IBM Buildathon\\\\Project Building\\\\Dataset Plant Disease\\\\Veg-dataset\\\\Veg-dataset\\\\test_set\\\\Tomato___Late_blight\\\\b5e5a3bd-a8c8-46fc-928f-f0bb083b9a4e___GHLB2 Leaf 8550.jpg\", target_size=(128,128))\n",
    "x=image.img_to_array(img)\n",
    "x=np.expand_dims(x,axis=0)\n",
    "y=np.argmax(model.predict(x),axis=1)\n",
    "#x_train.class_indices\n",
    "index=['Pepper,_bell___Bacterial_spot','Pepper,_bell___healthy','Potato___Early_blight','Potato___Late_blight','Potato___healthy','Tomato___Bacterial_spot','Tomato___Late_blight','Tomato___Leaf_Mold','Tomato___Septoria_leaf_spot']\n",
    "index[y[0]]"
   ]
  },
  {
   "cell_type": "code",
   "execution_count": 28,
   "id": "0c0e6cf3",
   "metadata": {},
   "outputs": [
    {
     "data": {
      "image/png": "[encoded data removed]",
      "text/plain": [
       "<PIL.Image.Image image mode=RGB size=128x128 at 0x2A9A9291D90>"
      ]
     },
     "execution_count": 28,
     "metadata": {},
     "output_type": "execute_result"
    }
   ],
   "source": [
    "img"
   ]
  },
  {
   "cell_type": "code",
   "execution_count": 29,
   "id": "557ee239",
   "metadata": {},
   "outputs": [
    {
     "data": {
      "text/plain": [
       "'Tomato___Septoria_leaf_spot'"
      ]
     },
     "execution_count": 29,
     "metadata": {},
     "output_type": "execute_result"
    }
   ],
   "source": [
    "img=image.load_img(\"C:\\\\Users\\\\91978\\\\Desktop\\\\Python Projects\\\\IBM Buildathon\\\\Project Building\\\\Dataset Plant Disease\\\\Veg-dataset\\\\Veg-dataset\\\\test_set\\\\\\Tomato___Leaf_Mold\\\\af7e1ce4-bb49-4227-ba89-9972bab473b7___Crnl_L.Mold 6560.jpg\", target_size=(128,128))\n",
    "x=image.img_to_array(img)\n",
    "x=np.expand_dims(x,axis=0)\n",
    "y=np.argmax(model.predict(x),axis=1)\n",
    "#x_train.class_indices\n",
    "index=['Pepper,_bell___Bacterial_spot','Pepper,_bell___healthy','Potato___Early_blight','Potato___Late_blight','Potato___healthy','Tomato___Bacterial_spot','Tomato___Late_blight','Tomato___Leaf_Mold','Tomato___Septoria_leaf_spot']\n",
    "index[y[0]]"
   ]
  },
  {
   "cell_type": "code",
   "execution_count": null,
   "id": "ceba2a16",
   "metadata": {},
   "outputs": [],
   "source": []
  }
 ],
 "metadata": {
  "kernelspec": {
   "display_name": "Python 3 (ipykernel)",
   "language": "python",
   "name": "python3"
  },
  "language_info": {
   "codemirror_mode": {
    "name": "ipython",
    "version": 3
   },
   "file_extension": ".py",
   "mimetype": "text/x-python",
   "name": "python",
   "nbconvert_exporter": "python",
   "pygments_lexer": "ipython3",
   "version": "3.9.7"
  }
 },
 "nbformat": 4,
 "nbformat_minor": 5
}
