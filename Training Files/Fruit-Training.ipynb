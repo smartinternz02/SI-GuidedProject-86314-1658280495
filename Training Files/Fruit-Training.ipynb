{
 "cells": [
  {
   "cell_type": "code",
   "execution_count": 9,
   "id": "c0d553f3",
   "metadata": {},
   "outputs": [],
   "source": [
    "from tensorflow.keras.preprocessing.image import ImageDataGenerator\n",
    "train_datagen=ImageDataGenerator(rescale=1./255,shear_range=0.2,zoom_range=0.2,horizontal_flip=True)\n",
    "test_datagen=ImageDataGenerator(rescale=1./255)"
   ]
  },
  {
   "cell_type": "code",
   "execution_count": 10,
   "id": "bb92b814",
   "metadata": {},
   "outputs": [
    {
     "data": {
      "text/plain": [
       "'C:\\\\Users\\\\91978\\\\Desktop\\\\Python Projects\\\\IBM Buildathon\\\\Project Building\\\\Dataset Plant Disease'"
      ]
     },
     "execution_count": 10,
     "metadata": {},
     "output_type": "execute_result"
    }
   ],
   "source": [
    "pwd"
   ]
  },
  {
   "cell_type": "code",
   "execution_count": 11,
   "id": "e0b86fc5",
   "metadata": {},
   "outputs": [
    {
     "name": "stdout",
     "output_type": "stream",
     "text": [
      "Found 5384 images belonging to 6 classes.\n",
      "Found 1686 images belonging to 6 classes.\n"
     ]
    }
   ],
   "source": [
    "x_train=train_datagen.flow_from_directory('C:\\\\Users\\\\91978\\\\Desktop\\\\Python Projects\\\\IBM Buildathon\\\\Project Building\\\\Dataset Plant Disease\\\\fruit-dataset\\\\fruit-dataset\\\\train',\n",
    "                                          target_size=(128,128),class_mode='categorical',batch_size=32)\n",
    "x_test=test_datagen.flow_from_directory('C:\\\\Users\\\\91978\\\\Desktop\\\\Python Projects\\\\IBM Buildathon\\\\Project Building\\\\Dataset Plant Disease\\\\fruit-dataset\\\\fruit-dataset\\\\test',\n",
    "                                          target_size=(128,128),class_mode='categorical',batch_size=32)"
   ]
  },
  {
   "cell_type": "code",
   "execution_count": 12,
   "id": "a8700bf1",
   "metadata": {},
   "outputs": [
    {
     "data": {
      "text/plain": [
       "{'Apple___Black_rot': 0,\n",
       " 'Apple___healthy': 1,\n",
       " 'Corn_(maize)___Northern_Leaf_Blight': 2,\n",
       " 'Corn_(maize)___healthy': 3,\n",
       " 'Peach___Bacterial_spot': 4,\n",
       " 'Peach___healthy': 5}"
      ]
     },
     "execution_count": 12,
     "metadata": {},
     "output_type": "execute_result"
    }
   ],
   "source": [
    "x_train.class_indices"
   ]
  },
  {
   "cell_type": "code",
   "execution_count": 13,
   "id": "e26c3665",
   "metadata": {},
   "outputs": [],
   "source": [
    "from tensorflow.keras.models import Sequential\n",
    "from tensorflow.keras.layers import Dense,Convolution2D,MaxPooling2D,Flatten, Dropout"
   ]
  },
  {
   "cell_type": "code",
   "execution_count": 6,
   "id": "278586f3",
   "metadata": {},
   "outputs": [
    {
     "name": "stdout",
     "output_type": "stream",
     "text": [
      "Model: \"sequential\"\n",
      "_________________________________________________________________\n",
      " Layer (type)                Output Shape              Param #   \n",
      "=================================================================\n",
      " conv2d (Conv2D)             (None, 124, 124, 32)      2432      \n",
      "                                                                 \n",
      " max_pooling2d (MaxPooling2D  (None, 41, 41, 32)       0         \n",
      " )                                                               \n",
      "                                                                 \n",
      " conv2d_1 (Conv2D)           (None, 39, 39, 32)        9248      \n",
      "                                                                 \n",
      " max_pooling2d_1 (MaxPooling  (None, 19, 19, 32)       0         \n",
      " 2D)                                                             \n",
      "                                                                 \n",
      " conv2d_2 (Conv2D)           (None, 17, 17, 64)        18496     \n",
      "                                                                 \n",
      " max_pooling2d_2 (MaxPooling  (None, 8, 8, 64)         0         \n",
      " 2D)                                                             \n",
      "                                                                 \n",
      " flatten (Flatten)           (None, 4096)              0         \n",
      "                                                                 \n",
      " dense (Dense)               (None, 512)               2097664   \n",
      "                                                                 \n",
      " dropout (Dropout)           (None, 512)               0         \n",
      "                                                                 \n",
      " dense_1 (Dense)             (None, 128)               65664     \n",
      "                                                                 \n",
      " dense_2 (Dense)             (None, 6)                 774       \n",
      "                                                                 \n",
      "=================================================================\n",
      "Total params: 2,194,278\n",
      "Trainable params: 2,194,278\n",
      "Non-trainable params: 0\n",
      "_________________________________________________________________\n"
     ]
    }
   ],
   "source": [
    "model = Sequential()\n",
    "model.add(Convolution2D(32, (5, 5),input_shape=(128,128,3),activation='relu'))\n",
    "model.add(MaxPooling2D(pool_size=(3, 3)))\n",
    "model.add(Convolution2D(32, (3, 3),activation='relu'))\n",
    "model.add(MaxPooling2D(pool_size=(2, 2)))\n",
    "model.add(Convolution2D(64, (3, 3),activation='relu'))\n",
    "model.add(MaxPooling2D(pool_size=(2, 2)))   \n",
    "model.add(Flatten())\n",
    "model.add(Dense(512,activation='relu'))\n",
    "model.add(Dropout(0.25))\n",
    "model.add(Dense(128,activation='relu'))          \n",
    "model.add(Dense(6,activation='softmax'))\n",
    "model.summary()"
   ]
  },
  {
   "cell_type": "code",
   "execution_count": 7,
   "id": "49645dcd",
   "metadata": {},
   "outputs": [],
   "source": [
    "model.compile(loss='categorical_crossentropy',optimizer='adam',metrics='accuracy')"
   ]
  },
  {
   "cell_type": "code",
   "execution_count": 8,
   "id": "db443a1f",
   "metadata": {},
   "outputs": [
    {
     "data": {
      "text/plain": [
       "169"
      ]
     },
     "execution_count": 8,
     "metadata": {},
     "output_type": "execute_result"
    }
   ],
   "source": [
    "len(x_train)"
   ]
  },
  {
   "cell_type": "code",
   "execution_count": 11,
   "id": "011ed9f2",
   "metadata": {},
   "outputs": [
    {
     "name": "stderr",
     "output_type": "stream",
     "text": [
      "C:\\Users\\91978\\AppData\\Local\\Temp/ipykernel_22620/3138067069.py:1: UserWarning: `Model.fit_generator` is deprecated and will be removed in a future version. Please use `Model.fit`, which supports generators.\n",
      "  model.fit_generator(x_train,steps_per_epoch=len(x_train),validation_data=x_test,validation_steps=52,epochs=15)\n"
     ]
    },
    {
     "name": "stdout",
     "output_type": "stream",
     "text": [
      "Epoch 1/15\n",
      "169/169 [==============================] - 38s 222ms/step - loss: 1.0298 - accuracy: 0.6155 - val_loss: 0.5999 - val_accuracy: 0.7921\n",
      "Epoch 2/15\n",
      "169/169 [==============================] - 42s 250ms/step - loss: 0.5833 - accuracy: 0.7901 - val_loss: 0.4344 - val_accuracy: 0.8576\n",
      "Epoch 3/15\n",
      "169/169 [==============================] - 41s 243ms/step - loss: 0.3963 - accuracy: 0.8622 - val_loss: 0.2660 - val_accuracy: 0.9159\n",
      "Epoch 4/15\n",
      "169/169 [==============================] - 42s 250ms/step - loss: 0.3478 - accuracy: 0.8802 - val_loss: 0.3201 - val_accuracy: 0.8930\n",
      "Epoch 5/15\n",
      "169/169 [==============================] - 42s 249ms/step - loss: 0.2814 - accuracy: 0.9019 - val_loss: 0.2516 - val_accuracy: 0.9093\n",
      "Epoch 6/15\n",
      "169/169 [==============================] - 41s 243ms/step - loss: 0.2646 - accuracy: 0.9045 - val_loss: 0.1850 - val_accuracy: 0.9345\n",
      "Epoch 7/15\n",
      "169/169 [==============================] - 44s 262ms/step - loss: 0.2252 - accuracy: 0.9201 - val_loss: 0.1702 - val_accuracy: 0.9417\n",
      "Epoch 8/15\n",
      "169/169 [==============================] - 43s 256ms/step - loss: 0.2087 - accuracy: 0.9263 - val_loss: 0.1658 - val_accuracy: 0.9471\n",
      "Epoch 9/15\n",
      "169/169 [==============================] - 42s 250ms/step - loss: 0.1804 - accuracy: 0.9352 - val_loss: 0.1740 - val_accuracy: 0.9405\n",
      "Epoch 10/15\n",
      "169/169 [==============================] - 42s 247ms/step - loss: 0.1721 - accuracy: 0.9411 - val_loss: 0.2121 - val_accuracy: 0.9201\n",
      "Epoch 11/15\n",
      "169/169 [==============================] - 43s 252ms/step - loss: 0.1715 - accuracy: 0.9411 - val_loss: 0.1467 - val_accuracy: 0.9525\n",
      "Epoch 12/15\n",
      "169/169 [==============================] - 42s 249ms/step - loss: 0.1617 - accuracy: 0.9460 - val_loss: 0.1440 - val_accuracy: 0.9489\n",
      "Epoch 13/15\n",
      "169/169 [==============================] - 45s 268ms/step - loss: 0.1402 - accuracy: 0.9480 - val_loss: 0.1133 - val_accuracy: 0.9669\n",
      "Epoch 14/15\n",
      "169/169 [==============================] - 44s 258ms/step - loss: 0.1286 - accuracy: 0.9554 - val_loss: 0.2270 - val_accuracy: 0.9273\n",
      "Epoch 15/15\n",
      "169/169 [==============================] - 49s 292ms/step - loss: 0.1287 - accuracy: 0.9564 - val_loss: 0.0925 - val_accuracy: 0.9675\n"
     ]
    },
    {
     "data": {
      "text/plain": [
       "<keras.callbacks.History at 0x25c743996a0>"
      ]
     },
     "execution_count": 11,
     "metadata": {},
     "output_type": "execute_result"
    }
   ],
   "source": [
    "model.fit_generator(x_train,steps_per_epoch=len(x_train),validation_data=x_test,validation_steps=52,epochs=15)"
   ]
  },
  {
   "cell_type": "code",
   "execution_count": 12,
   "id": "470f3ddf",
   "metadata": {},
   "outputs": [
    {
     "name": "stdout",
     "output_type": "stream",
     "text": [
      " Volume in drive C is Windows-SSD\n",
      " Volume Serial Number is D6F1-5ABD\n",
      "\n",
      " Directory of C:\\Users\\91978\\Desktop\\Python Projects\\IBM Buildathon\\Project Building\\Dataset Plant Disease\n",
      "\n",
      "16-07-2022  10:25    <DIR>          .\n",
      "16-07-2022  10:25    <DIR>          ..\n",
      "15-07-2022  22:57    <DIR>          .ipynb_checkpoints\n",
      "15-07-2022  22:21    <DIR>          fruit-dataset\n",
      "16-07-2022  10:25             9,453 Fruit-Training.ipynb\n",
      "15-07-2022  22:21    <DIR>          Veg-dataset\n",
      "               1 File(s)          9,453 bytes\n",
      "               5 Dir(s)  85,517,905,920 bytes free\n"
     ]
    }
   ],
   "source": [
    "ls"
   ]
  },
  {
   "cell_type": "code",
   "execution_count": 13,
   "id": "6afac48b",
   "metadata": {},
   "outputs": [],
   "source": [
    "model.save('fruit.h5') "
   ]
  }
 ],
 "metadata": {
  "kernelspec": {
   "display_name": "Python 3 (ipykernel)",
   "language": "python",
   "name": "python3"
  },
  "language_info": {
   "codemirror_mode": {
    "name": "ipython",
    "version": 3
   },
   "file_extension": ".py",
   "mimetype": "text/x-python",
   "name": "python",
   "nbconvert_exporter": "python",
   "pygments_lexer": "ipython3",
   "version": "3.9.7"
  }
 },
 "nbformat": 4,
 "nbformat_minor": 5
}
