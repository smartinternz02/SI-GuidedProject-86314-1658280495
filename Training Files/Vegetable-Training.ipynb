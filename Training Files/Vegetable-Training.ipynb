{
 "cells": [
  {
   "cell_type": "code",
   "execution_count": 1,
   "id": "c0d553f3",
   "metadata": {},
   "outputs": [],
   "source": [
    "from keras.preprocessing.image import ImageDataGenerator\n",
    "train_datagen=ImageDataGenerator(rescale=1./255,shear_range=0.2,zoom_range=0.2,horizontal_flip=True)\n",
    "test_datagen=ImageDataGenerator(rescale=1./255)"
   ]
  },
  {
   "cell_type": "code",
   "execution_count": 2,
   "id": "bb92b814",
   "metadata": {},
   "outputs": [
    {
     "data": {
      "text/plain": [
       "'C:\\\\Users\\\\91978\\\\Desktop\\\\Python Projects\\\\IBM Buildathon\\\\Project Building\\\\Dataset Plant Disease'"
      ]
     },
     "execution_count": 2,
     "metadata": {},
     "output_type": "execute_result"
    }
   ],
   "source": [
    "pwd"
   ]
  },
  {
   "cell_type": "code",
   "execution_count": 3,
   "id": "e0b86fc5",
   "metadata": {},
   "outputs": [
    {
     "name": "stdout",
     "output_type": "stream",
     "text": [
      "Found 11386 images belonging to 9 classes.\n",
      "Found 3416 images belonging to 9 classes.\n"
     ]
    }
   ],
   "source": [
    "x_train=train_datagen.flow_from_directory('C:\\\\Users\\\\91978\\\\Desktop\\\\Python Projects\\\\IBM Buildathon\\\\Project Building\\\\Dataset Plant Disease\\\\Veg-dataset\\\\Veg-dataset\\\\train_set',\n",
    "                                          target_size=(128,128),class_mode='categorical',batch_size=32)\n",
    "x_test=test_datagen.flow_from_directory('C:\\\\Users\\\\91978\\\\Desktop\\\\Python Projects\\\\IBM Buildathon\\\\Project Building\\\\Dataset Plant Disease\\\\Veg-dataset\\\\Veg-dataset\\\\test_set',\n",
    "                                          target_size=(128,128),class_mode='categorical',batch_size=32)"
   ]
  },
  {
   "cell_type": "code",
   "execution_count": 4,
   "id": "a8700bf1",
   "metadata": {},
   "outputs": [
    {
     "data": {
      "text/plain": [
       "{'Pepper,_bell___Bacterial_spot': 0,\n",
       " 'Pepper,_bell___healthy': 1,\n",
       " 'Potato___Early_blight': 2,\n",
       " 'Potato___Late_blight': 3,\n",
       " 'Potato___healthy': 4,\n",
       " 'Tomato___Bacterial_spot': 5,\n",
       " 'Tomato___Late_blight': 6,\n",
       " 'Tomato___Leaf_Mold': 7,\n",
       " 'Tomato___Septoria_leaf_spot': 8}"
      ]
     },
     "execution_count": 4,
     "metadata": {},
     "output_type": "execute_result"
    }
   ],
   "source": [
    "x_train.class_indices"
   ]
  },
  {
   "cell_type": "code",
   "execution_count": 5,
   "id": "e26c3665",
   "metadata": {},
   "outputs": [],
   "source": [
    "from keras.models import Sequential\n",
    "from keras.layers import Dense\n",
    "from keras.layers import Convolution2D\n",
    "from keras.layers import MaxPooling2D\n",
    "from keras.layers import Flatten"
   ]
  },
  {
   "cell_type": "code",
   "execution_count": 6,
   "id": "278586f3",
   "metadata": {},
   "outputs": [],
   "source": [
    "model=Sequential()\n",
    "model.add(Convolution2D(32,(3,3),input_shape=(128,128,3),activation='relu'))\n",
    "model.add(MaxPooling2D(pool_size=(2,2)))\n",
    "model.add(Flatten())\n",
    "model.add(Dense(300,kernel_initializer = 'uniform',activation ='relu'))\n",
    "model.add(Dense(150, kernel_initializer ='uniform',activation ='relu'))\n",
    "model.add(Dense(75, kernel_initializer ='uniform',activation ='relu'))\n",
    "model.add(Dense(9, kernel_initializer ='uniform',activation ='softmax'))"
   ]
  },
  {
   "cell_type": "code",
   "execution_count": 7,
   "id": "e3461eb1",
   "metadata": {},
   "outputs": [
    {
     "name": "stdout",
     "output_type": "stream",
     "text": [
      "Model: \"sequential\"\n",
      "_________________________________________________________________\n",
      " Layer (type)                Output Shape              Param #   \n",
      "=================================================================\n",
      " conv2d (Conv2D)             (None, 126, 126, 32)      896       \n",
      "                                                                 \n",
      " max_pooling2d (MaxPooling2D  (None, 63, 63, 32)       0         \n",
      " )                                                               \n",
      "                                                                 \n",
      " flatten (Flatten)           (None, 127008)            0         \n",
      "                                                                 \n",
      " dense (Dense)               (None, 300)               38102700  \n",
      "                                                                 \n",
      " dense_1 (Dense)             (None, 150)               45150     \n",
      "                                                                 \n",
      " dense_2 (Dense)             (None, 75)                11325     \n",
      "                                                                 \n",
      " dense_3 (Dense)             (None, 9)                 684       \n",
      "                                                                 \n",
      "=================================================================\n",
      "Total params: 38,160,755\n",
      "Trainable params: 38,160,755\n",
      "Non-trainable params: 0\n",
      "_________________________________________________________________\n"
     ]
    }
   ],
   "source": [
    "model.summary()"
   ]
  },
  {
   "cell_type": "code",
   "execution_count": 8,
   "id": "49645dcd",
   "metadata": {},
   "outputs": [],
   "source": [
    "model.compile(loss='categorical_crossentropy',optimizer='adam',metrics='accuracy')"
   ]
  },
  {
   "cell_type": "code",
   "execution_count": 9,
   "id": "db443a1f",
   "metadata": {},
   "outputs": [
    {
     "data": {
      "text/plain": [
       "356"
      ]
     },
     "execution_count": 9,
     "metadata": {},
     "output_type": "execute_result"
    }
   ],
   "source": [
    "len(x_train)"
   ]
  },
  {
   "cell_type": "code",
   "execution_count": 10,
   "id": "011ed9f2",
   "metadata": {},
   "outputs": [
    {
     "name": "stderr",
     "output_type": "stream",
     "text": [
      "C:\\Users\\91978\\AppData\\Local\\Temp/ipykernel_22048/2688753545.py:1: UserWarning: `Model.fit_generator` is deprecated and will be removed in a future version. Please use `Model.fit`, which supports generators.\n",
      "  model.fit_generator(x_train,steps_per_epoch=89,validation_data=x_test,validation_steps=27,epochs=20)\n"
     ]
    },
    {
     "name": "stdout",
     "output_type": "stream",
     "text": [
      "Epoch 1/20\n",
      "89/89 [==============================] - 42s 466ms/step - loss: 1.9276 - accuracy: 0.2556 - val_loss: 1.6035 - val_accuracy: 0.3576\n",
      "Epoch 2/20\n",
      "89/89 [==============================] - 45s 505ms/step - loss: 1.5121 - accuracy: 0.4364 - val_loss: 1.5200 - val_accuracy: 0.4560\n",
      "Epoch 3/20\n",
      "89/89 [==============================] - 65s 722ms/step - loss: 1.2301 - accuracy: 0.5562 - val_loss: 1.0202 - val_accuracy: 0.6273\n",
      "Epoch 4/20\n",
      "89/89 [==============================] - 68s 766ms/step - loss: 1.0131 - accuracy: 0.6355 - val_loss: 0.9435 - val_accuracy: 0.6539\n",
      "Epoch 5/20\n",
      "89/89 [==============================] - 64s 718ms/step - loss: 0.9699 - accuracy: 0.6482 - val_loss: 1.1465 - val_accuracy: 0.6007\n",
      "Epoch 6/20\n",
      "89/89 [==============================] - 63s 704ms/step - loss: 0.8253 - accuracy: 0.7012 - val_loss: 0.8748 - val_accuracy: 0.6944\n",
      "Epoch 7/20\n",
      "89/89 [==============================] - 67s 750ms/step - loss: 0.7355 - accuracy: 0.7426 - val_loss: 0.6401 - val_accuracy: 0.7639\n",
      "Epoch 8/20\n",
      "89/89 [==============================] - 73s 821ms/step - loss: 0.7045 - accuracy: 0.7539 - val_loss: 0.7587 - val_accuracy: 0.7245\n",
      "Epoch 9/20\n",
      "89/89 [==============================] - 75s 836ms/step - loss: 0.6032 - accuracy: 0.7777 - val_loss: 0.5043 - val_accuracy: 0.8183\n",
      "Epoch 10/20\n",
      "89/89 [==============================] - 73s 821ms/step - loss: 0.5859 - accuracy: 0.7879 - val_loss: 0.4658 - val_accuracy: 0.8449\n",
      "Epoch 11/20\n",
      "89/89 [==============================] - 75s 845ms/step - loss: 0.5108 - accuracy: 0.8143 - val_loss: 0.4564 - val_accuracy: 0.8484\n",
      "Epoch 12/20\n",
      "89/89 [==============================] - 75s 843ms/step - loss: 0.4711 - accuracy: 0.8357 - val_loss: 0.3808 - val_accuracy: 0.8646\n",
      "Epoch 13/20\n",
      "89/89 [==============================] - 73s 822ms/step - loss: 0.4580 - accuracy: 0.8399 - val_loss: 0.4161 - val_accuracy: 0.8576\n",
      "Epoch 14/20\n",
      "89/89 [==============================] - 73s 815ms/step - loss: 0.4412 - accuracy: 0.8388 - val_loss: 0.5187 - val_accuracy: 0.8241\n",
      "Epoch 15/20\n",
      "89/89 [==============================] - 76s 849ms/step - loss: 0.4526 - accuracy: 0.8410 - val_loss: 0.4501 - val_accuracy: 0.8484\n",
      "Epoch 16/20\n",
      "89/89 [==============================] - 74s 834ms/step - loss: 0.4155 - accuracy: 0.8511 - val_loss: 0.3200 - val_accuracy: 0.8935\n",
      "Epoch 17/20\n",
      "89/89 [==============================] - 73s 813ms/step - loss: 0.3722 - accuracy: 0.8743 - val_loss: 0.3075 - val_accuracy: 0.8993\n",
      "Epoch 18/20\n",
      "89/89 [==============================] - 74s 829ms/step - loss: 0.3659 - accuracy: 0.8711 - val_loss: 0.3895 - val_accuracy: 0.8495\n",
      "Epoch 19/20\n",
      "89/89 [==============================] - 74s 828ms/step - loss: 0.3693 - accuracy: 0.8687 - val_loss: 0.3340 - val_accuracy: 0.8843\n",
      "Epoch 20/20\n",
      "89/89 [==============================] - 75s 843ms/step - loss: 0.3738 - accuracy: 0.8649 - val_loss: 0.3203 - val_accuracy: 0.8854\n"
     ]
    },
    {
     "data": {
      "text/plain": [
       "<keras.callbacks.History at 0x132e1959cd0>"
      ]
     },
     "execution_count": 10,
     "metadata": {},
     "output_type": "execute_result"
    }
   ],
   "source": [
    "model.fit_generator(x_train,steps_per_epoch=89,validation_data=x_test,validation_steps=27,epochs=20)"
   ]
  },
  {
   "cell_type": "code",
   "execution_count": 56,
   "id": "f68c2e5d",
   "metadata": {},
   "outputs": [],
   "source": [
    "model.save('vegetable.h5') "
   ]
  }
 ],
 "metadata": {
  "kernelspec": {
   "display_name": "Python 3 (ipykernel)",
   "language": "python",
   "name": "python3"
  },
  "language_info": {
   "codemirror_mode": {
    "name": "ipython",
    "version": 3
   },
   "file_extension": ".py",
   "mimetype": "text/x-python",
   "name": "python",
   "nbconvert_exporter": "python",
   "pygments_lexer": "ipython3",
   "version": "3.9.7"
  }
 },
 "nbformat": 4,
 "nbformat_minor": 5
}
